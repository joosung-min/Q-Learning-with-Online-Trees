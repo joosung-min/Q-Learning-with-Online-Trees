{
 "metadata": {
  "language_info": {
   "codemirror_mode": {
    "name": "ipython",
    "version": 3
   },
   "file_extension": ".py",
   "mimetype": "text/x-python",
   "name": "python",
   "nbconvert_exporter": "python",
   "pygments_lexer": "ipython3",
   "version": "3.7.9-final"
  },
  "orig_nbformat": 2,
  "kernelspec": {
   "name": "python_defaultSpec_1600761156653",
   "display_name": "Python 3.7.9 64-bit ('torch': venv)"
  }
 },
 "nbformat": 4,
 "nbformat_minor": 2,
 "cells": [
  {
   "cell_type": "markdown",
   "metadata": {},
   "source": [
    "## Q-learning with ORF"
   ]
  },
  {
   "cell_type": "markdown",
   "metadata": {},
   "source": [
    "**Algorithm: Q-learning with shallow function approximator**\n",
    "\n",
    "---\n",
    "\n",
    "Initialize replay memory D to capacity N\n",
    "\n",
    "Initialize action-value function Q with random weights\n",
    "\n",
    "**for** episode = 1 to M **do**\n",
    "\n",
    "&nbsp;&nbsp;&nbsp;&nbsp; Initialize sequence $s_{1} = \\{x_{1}\\}$ and preprocessed sequence $\\phi_{1} = \\phi(s_{1})$\n",
    "\n",
    "&nbsp;&nbsp;&nbsp;&nbsp; **for** t = 1 to T **do**\n",
    "\n",
    "&nbsp;&nbsp;&nbsp;&nbsp;&nbsp;&nbsp;&nbsp;&nbsp; Select $a_{t} = \\begin{cases} \\max_{a}Q(\\phi(s_{t}), a; \\theta)&\\text{with probability } 1-\\epsilon \\\\ \\text{random action }&\\text{with probability } \\epsilon \\end{cases}$\n",
    "\n",
    "&nbsp;&nbsp;&nbsp;&nbsp;&nbsp;&nbsp;&nbsp;&nbsp; Execute action $a_{t}$ and observe reward $r_{t}$ and image $x_{t+1}$\n",
    "\n",
    "&nbsp;&nbsp;&nbsp;&nbsp;&nbsp;&nbsp;&nbsp;&nbsp; Set $s_{t+1}=s_{t}$, and preprocess $\\phi_{t+1} = \\phi(s_{t+1})$\n",
    "\n",
    "&nbsp;&nbsp;&nbsp;&nbsp;&nbsp;&nbsp;&nbsp;&nbsp; Store transition ($\\phi_{t}, a_{t}, r_{t}, \\phi_{t+1}$) in D\n",
    "\n",
    "&nbsp;&nbsp;&nbsp;&nbsp;&nbsp;&nbsp;&nbsp;&nbsp; Sample random minibatch of transitions ($\\phi_{j}, a_{j}, r_{j}, \\phi_{j+1}$) from D\n",
    "\n",
    "&nbsp;&nbsp;&nbsp;&nbsp;&nbsp;&nbsp;&nbsp;&nbsp; Set $y_{j} = \\begin{cases} r_{j}&\\text{for terminal } \\phi_{j+1} \\\\ r_{j} + \\gamma \\max_{a'} Q(\\phi_{j+1}, a'; \\theta)&\\text{for non-terminal } \\phi_{j+1} \\end{cases}$\n",
    "\n",
    "\n",
    "&nbsp;&nbsp;&nbsp;&nbsp;&nbsp;&nbsp;&nbsp;&nbsp; Fit the approximator with ($\\phi_{j}$,  $y_{j}$)\n",
    "\n",
    "&nbsp;&nbsp;&nbsp;&nbsp; **end for**\n",
    "\n",
    "**end for**\n",
    "\n",
    "---\n",
    "\n",
    "s = state, \n",
    "\n",
    "a = current action, \n",
    "\n",
    "a' = action for the next state, \n",
    "\n",
    "$\\theta$ = parameters for the function approximator, \n",
    "\n",
    "$Q(s,a;\\theta)$: action-value function estimated by a function approximator\n",
    "\n"
   ]
  },
  {
   "cell_type": "code",
   "execution_count": 2,
   "metadata": {},
   "outputs": [],
   "source": [
    "# Changes in v3: \n",
    "# Expand number of trees to maxTrees at episode = 100\n",
    "# Repeat q_learning many times, plot the mean(total_reward_episode)\n"
   ]
  },
  {
   "cell_type": "code",
   "execution_count": 3,
   "metadata": {},
   "outputs": [],
   "source": [
    "import gym\n",
    "import random\n",
    "import pickle\n",
    "from collections import deque\n",
    "from tqdm import tqdm\n",
    "import matplotlib.pyplot as plt\n",
    "import os\n",
    "# import os.path\n",
    "# import copy\n",
    "import numpy as np\n",
    "import time\n",
    "import datetime\n",
    "# import multiprocessing\n",
    "# from cProfile import Profile"
   ]
  },
  {
   "cell_type": "code",
   "execution_count": 4,
   "metadata": {},
   "outputs": [],
   "source": [
    "# On Google Colab\n",
    "# # -------------------------------------------------------------------------\n",
    "# from google.colab import drive\n",
    "# drive.mount('/content/drive/')\n",
    "# %cd /content/drive/My\\ Drive/Colab\\ Notebooks/TreeRL/\n",
    "# !ls\n",
    "# import sys\n",
    "# sys.path.insert(0, '/content/drive/My\\ Drive/Colab\\ Notebooks/TreeRL/')\n",
    "# # --------------------------------------------------------------------------\n",
    "import ORF"
   ]
  },
  {
   "cell_type": "code",
   "execution_count": 33,
   "metadata": {},
   "outputs": [],
   "source": [
    "class ORF_DQN(): \n",
    "    \n",
    "    def __init__(self, n_state, n_action, replay_size, ORFparams):\n",
    "        self.n_action = n_action\n",
    "        self.a_model = {} # to build RF for each action\n",
    "        self.a_params = {a: ORFparams for a in range(n_action)}\n",
    "        self.isFit = False\n",
    "        self.maxTrees = ORFparams['maxTrees']\n",
    "    \n",
    "    def predict(self, s):            \n",
    "        # s: (4,) array (for cartpole)\n",
    "        preds = [self.a_model[a].predict(s) for a in range(self.n_action)]\n",
    "        return preds\n",
    "\n",
    "    def gen_epsilon_greedy_policy(self, epsilon, n_action):\n",
    "        \n",
    "        def policy_function(state):\n",
    "            # state: (4,) array\n",
    "            ran = \"_\"\n",
    "            q_values =[0.0, 0.0]\n",
    "            if np.random.uniform(0,1) < epsilon:\n",
    "                ran = \"Random\"\n",
    "                return([random.randint(0, n_action - 1), ran, q_values])\n",
    "            else:\n",
    "                if self.isFit == True:\n",
    "                    ran = \"Model\"\n",
    "                    q_values = self.predict(state) # (1,2) array\n",
    "                    # print(q_values)\n",
    "                else: \n",
    "                    ran = \"Random_notFit\"\n",
    "                    return([random.randint(0, n_action - 1), ran, q_values])\n",
    "                    # print(\"passed random.randint\")\n",
    "            return([np.argmax(q_values), ran, q_values])# int\n",
    "        \n",
    "        return policy_function\n",
    "\n",
    "\n",
    "    # def expandForest(self, memory):\n",
    "    #     for a in range(self.n_action):\n",
    "    #         self.a_params[a]['xrng'] = ORF.dataRange([v[0] for v in memory if v[1] == a])\n",
    "    #         lenFor = len(self.a_model[a].forest)\n",
    "    #         for i in range(lenFor+1, self.maxTrees):\n",
    "    #             self.a_model[a].forest[i] = ORF.ORT(self.a_params[a]) # build new empty trees\n",
    "    \n",
    "\n",
    "    def replay(self, memory, replay_size, gamma, episode):\n",
    "        \n",
    "        if len(memory) == replay_size: # Build initial Forests\n",
    "            \n",
    "            for a in range(self.n_action):\n",
    "                self.a_params[a]['xrng'] = ORF.dataRange([v[0] for v in memory if v[1] == a])\n",
    "                self.a_model[a] = ORF.ORF(self.a_params[a]) # Fit initial RFs for each action\n",
    "            print(\"model created!\")\n",
    "            print(self.a_model[0], self.a_model[1])            \n",
    "\n",
    "        if len(memory) >= replay_size: # When the memory size exceeds the replay_size, start updating the RFs            \n",
    "            \n",
    "            replay_data = random.sample(memory, replay_size) # replay_data consists of [state, action, next_state, reward, is_done]\n",
    "            for state, action, next_state, reward, is_done in replay_data:\n",
    "                \n",
    "                q_values = self.predict(state) # (, n_actions)\n",
    "                q_values[action] = reward + gamma * np.max(self.predict(next_state)) if is_done == False else -1000 * reward\n",
    "                \n",
    "                # Update the RF for the action taken\n",
    "                xrng = ORF.dataRange([v[0] for v in replay_data if v[1] == action])\n",
    "                self.a_model[action].update(state, q_values[action], xrng)    \n",
    "            self.isFit = True\n",
    "               \n",
    "        if episode == 100: # expand the number of trees at episode 100            \n",
    "            # expandForest(memory)\n",
    "            for a in range(self.n_action):\n",
    "                self.a_params[a]['xrng'] = ORF.dataRange([v[0] for v in memory if v[1] == a])\n",
    "                lenFor = len(self.a_model[a].forest)\n",
    "                for i in range(lenFor+1, self.maxTrees):\n",
    "                    self.a_model[a].forest[i] = ORF.ORT(self.a_params[a]) # build new empty trees\n",
    "        \n",
    "            \n",
    "            "
   ]
  },
  {
   "cell_type": "code",
   "execution_count": 40,
   "metadata": {},
   "outputs": [],
   "source": [
    "def q_learning(env, estimator, n_episode, replay_size, gamma=1.0, epsilon=0.1, epsilon_decay=0.95):\n",
    "    \n",
    "    for episode in tqdm(range(n_episode)):\n",
    "        policy = estimator.gen_epsilon_greedy_policy(epsilon, n_action)\n",
    "        state = env.reset()\n",
    "        is_done = False\n",
    "        i = 0\n",
    "        while not is_done:\n",
    "            action, ran, pred = policy(state) # integer\n",
    "            next_state, reward, is_done, _ = env.step(action)\n",
    "            i += 1\n",
    "            # next_state: 4x1 array (for cartpole)\n",
    "            # reward: integer\n",
    "            # is_done: bool (True/False)\n",
    "            \n",
    "            total_reward_episode[episode] += reward\n",
    "            \n",
    "            # ep[episode].append((i, state, ran, action))\n",
    "            memory.append((state, action, next_state, reward, is_done))\n",
    "            \n",
    "            if is_done:\n",
    "                break\n",
    "            estimator.replay(memory, replay_size, gamma, episode)\n",
    "            state = next_state\n",
    "        epsilon = np.max([epsilon * epsilon_decay, 0.01])\n",
    "        # print(epsilon)"
   ]
  },
  {
   "cell_type": "code",
   "execution_count": 41,
   "metadata": {},
   "outputs": [],
   "source": [
    "# Initialization\n",
    "env = gym.envs.make(\"CartPole-v1\")\n",
    "n_state = env.observation_space.shape[0]\n",
    "n_action = env.action_space.n\n",
    "\n",
    "n_episode = 200\n",
    "replay_size = 32\n",
    "reps = 25\n",
    "\n",
    "rep_TRES = []\n",
    "\n",
    "ep = {i: [] for i in range(n_episode)}\n",
    "\n",
    "QLparams = {'gamma' : 1.0, 'epsilon' : 0.5, 'epsilon_decay' : 0.99}"
   ]
  },
  {
   "cell_type": "code",
   "execution_count": 43,
   "metadata": {
    "tags": []
   },
   "outputs": [
    {
     "output_type": "stream",
     "name": "stderr",
     "text": "0%|          | 0/5 [00:00<?, ?it/s]0\naction selected\naction selected\naction selected\naction selected\naction selected\naction selected\naction selected\naction selected\naction selected\naction selected\naction selected\naction selected\naction selected\naction selected\naction selected\naction selected\naction selected\naction selected\naction selected\naction selected\naction selected\naction selected\naction selected\naction selected\naction selected\naction selected\naction selected\naction selected\naction selected\naction selected\naction selected\naction selected\nmodel created!\n<ORF.ORF object at 0x7f7514c60750> <ORF.ORF object at 0x7f7514c60910>\naction selected\naction selected\naction selected\naction selected\naction selected\naction selected\naction selected\naction selected\naction selected\naction selected\n 20%|██        | 1/5 [00:01<00:05,  1.26s/it]action selected\naction selected\n1\naction selected\naction selected\naction selected\naction selected\naction selected\naction selected\naction selected\naction selected\n 40%|████      | 2/5 [00:02<00:04,  1.33s/it]action selected\naction selected\n2\naction selected\naction selected\naction selected\naction selected\naction selected\naction selected\naction selected\naction selected\naction selected\naction selected\naction selected\naction selected\naction selected\naction selected\naction selected\naction selected\naction selected\naction selected\naction selected\naction selected\naction selected\naction selected\naction selected\naction selected\naction selected\n 60%|██████    | 3/5 [00:06<00:04,  2.18s/it]action selected\naction selected\n3\naction selected\naction selected\naction selected\naction selected\naction selected\naction selected\naction selected\naction selected\naction selected\naction selected\naction selected\naction selected\naction selected\naction selected\naction selected\naction selected\naction selected\naction selected\naction selected\naction selected\naction selected\naction selected\naction selected\naction selected\naction selected\naction selected\naction selected\naction selected\naction selected\naction selected\naction selected\naction selected\naction selected\naction selected\naction selected\naction selected\n 80%|████████  | 4/5 [00:16<00:04,  4.42s/it]action selected\naction selected\naction selected\n4\naction selected\naction selected\naction selected\naction selected\naction selected\naction selected\naction selected\naction selected\naction selected\naction selected\naction selected\naction selected\naction selected\naction selected\naction selected\naction selected\naction selected\naction selected\naction selected\naction selected\naction selected\naction selected\naction selected\naction selected\n100%|██████████| 5/5 [00:23<00:00,  4.77s/it]action selected\naction selected\n\n  0%|          | 0/5 [00:00<?, ?it/s]0\naction selected\naction selected\naction selected\naction selected\naction selected\naction selected\naction selected\naction selected\naction selected\naction selected\naction selected\naction selected\naction selected\naction selected\naction selected\naction selected\naction selected\naction selected\naction selected\naction selected\naction selected\naction selected\naction selected\naction selected\naction selected\naction selected\naction selected\n1\naction selected\naction selected\naction selected\naction selected\naction selected\nmodel created!\n<ORF.ORF object at 0x7f755fab4fd0> <ORF.ORF object at 0x7f755fab45d0>\naction selected\naction selected\naction selected\naction selected\naction selected\naction selected\naction selected\naction selected\naction selected\naction selected\naction selected\naction selected\naction selected\n 40%|████      | 2/5 [00:01<00:02,  1.01it/s]action selected\n2\naction selected\naction selected\naction selected\naction selected\naction selected\naction selected\naction selected\naction selected\naction selected\naction selected\n 60%|██████    | 3/5 [00:04<00:02,  1.33s/it]action selected\naction selected\n3\naction selected\naction selected\naction selected\naction selected\naction selected\naction selected\naction selected\naction selected\naction selected\naction selected\naction selected\naction selected\naction selected\n 80%|████████  | 4/5 [00:06<00:01,  1.56s/it]action selected\naction selected\n4\naction selected\naction selected\naction selected\naction selected\naction selected\naction selected\naction selected\naction selected\naction selected\naction selected\naction selected\naction selected\naction selected\naction selected\naction selected\naction selected\naction selected\naction selected\naction selected\naction selected\n100%|██████████| 5/5 [00:10<00:00,  2.14s/it]action selected\naction selected\n\n  0%|          | 0/5 [00:00<?, ?it/s]0\naction selected\naction selected\naction selected\naction selected\naction selected\naction selected\naction selected\naction selected\naction selected\naction selected\naction selected\naction selected\naction selected\naction selected\naction selected\naction selected\naction selected\naction selected\naction selected\naction selected\n1\naction selected\naction selected\naction selected\naction selected\naction selected\naction selected\naction selected\naction selected\naction selected\naction selected\naction selected\naction selected\nmodel created!\n<ORF.ORF object at 0x7f7526901e50> <ORF.ORF object at 0x7f7526901950>\naction selected\naction selected\naction selected\naction selected\naction selected\naction selected\naction selected\n 40%|████      | 2/5 [00:01<00:01,  1.84it/s]action selected\n2\naction selected\naction selected\naction selected\naction selected\naction selected\naction selected\naction selected\naction selected\naction selected\naction selected\naction selected\naction selected\naction selected\naction selected\naction selected\naction selected\n 60%|██████    | 3/5 [00:04<00:02,  1.36s/it]action selected\n3\naction selected\naction selected\naction selected\naction selected\naction selected\naction selected\naction selected\n 80%|████████  | 4/5 [00:05<00:01,  1.37s/it]action selected\naction selected\n4\naction selected\naction selected\naction selected\naction selected\naction selected\naction selected\naction selected\naction selected\naction selected\naction selected\naction selected\naction selected\naction selected\naction selected\naction selected\naction selected\naction selected\naction selected\naction selected\n100%|██████████| 5/5 [00:09<00:00,  1.84s/it]\n  0%|          | 0/5 [00:00<?, ?it/s]action selected\n0\naction selected\naction selected\naction selected\naction selected\naction selected\naction selected\naction selected\naction selected\naction selected\naction selected\naction selected\naction selected\naction selected\naction selected\naction selected\naction selected\naction selected\naction selected\naction selected\naction selected\naction selected\naction selected\naction selected\naction selected\naction selected\naction selected\naction selected\n1\naction selected\naction selected\naction selected\naction selected\naction selected\nmodel created!\n<ORF.ORF object at 0x7f7514ccce90> <ORF.ORF object at 0x7f7514cccad0>\naction selected\naction selected\naction selected\naction selected\n 40%|████      | 2/5 [00:00<00:00,  3.00it/s]action selected\naction selected\n2\naction selected\naction selected\naction selected\naction selected\naction selected\naction selected\naction selected\naction selected\naction selected\naction selected\naction selected\naction selected\naction selected\naction selected\n 60%|██████    | 3/5 [00:03<00:01,  1.04it/s]action selected\naction selected\n3\naction selected\naction selected\naction selected\naction selected\naction selected\naction selected\naction selected\naction selected\naction selected\naction selected\naction selected\naction selected\naction selected\naction selected\naction selected\naction selected\naction selected\naction selected\naction selected\naction selected\naction selected\n 80%|████████  | 4/5 [00:08<00:02,  2.21s/it]action selected\naction selected\n4\naction selected\naction selected\naction selected\naction selected\naction selected\naction selected\naction selected\naction selected\naction selected\naction selected\naction selected\naction selected\naction selected\naction selected\naction selected\naction selected\naction selected\naction selected\naction selected\naction selected\n100%|██████████| 5/5 [00:13<00:00,  2.70s/it]action selected\naction selected\n\n"
    },
    {
     "output_type": "execute_result",
     "data": {
      "text/plain": "array([25.4, 14.6, 19.2, 19.4, 27.2])"
     },
     "metadata": {},
     "execution_count": 43
    }
   ],
   "source": [
    "# Run alg\n",
    "\n",
    "start = time.time()\n",
    "\n",
    "\n",
    "for i in range(reps):\n",
    "    memory = deque(maxlen=100000)\n",
    "    ORFparams = {'minSamples': replay_size*2, 'minGain': 0.1, 'xrng': None, 'maxDepth': 11, 'numTrees': 10, 'maxTrees': 30} # numTrees -> 30 after 100 iters. 25 restarts\n",
    "    dqn = ORF_DQN(n_state, n_action, replay_size, ORFparams) \n",
    "    total_reward_episode = np.zeros(n_episode)\n",
    "    q_learning(env, dqn, n_episode, replay_size, gamma=QLparams['gamma'], epsilon=QLparams['epsilon'], epsilon_decay=QLparams['epsilon_decay']) # runs the alg\n",
    "    rep_TRES.append(total_reward_episode)\n",
    "\n",
    "end = time.time()\n",
    "\n",
    "duration = int(end - start)\n",
    "\n",
    "# print(\"learning duration =\", duration, \" seconds\")\n",
    "# print(\"mean reward = \", np.mean(total_reward_episode))\n",
    "# print(\"max reward = \", max(total_reward_episode))\n",
    "\n",
    "mean_total_reward_episode = np.mean(rep_TRES, axis=0) # column mean\n",
    "mean_total_reward_episode\n"
   ]
  },
  {
   "cell_type": "code",
   "execution_count": 44,
   "metadata": {},
   "outputs": [
    {
     "output_type": "display_data",
     "data": {
      "text/plain": "<Figure size 432x288 with 1 Axes>",
      "image/svg+xml": "<?xml version=\"1.0\" encoding=\"utf-8\" standalone=\"no\"?>\n<!DOCTYPE svg PUBLIC \"-//W3C//DTD SVG 1.1//EN\"\n  \"http://www.w3.org/Graphics/SVG/1.1/DTD/svg11.dtd\">\n<!-- Created with matplotlib (https://matplotlib.org/) -->\n<svg height=\"277.314375pt\" version=\"1.1\" viewBox=\"0 0 388.965625 277.314375\" width=\"388.965625pt\" xmlns=\"http://www.w3.org/2000/svg\" xmlns:xlink=\"http://www.w3.org/1999/xlink\">\n <metadata>\n  <rdf:RDF xmlns:cc=\"http://creativecommons.org/ns#\" xmlns:dc=\"http://purl.org/dc/elements/1.1/\" xmlns:rdf=\"http://www.w3.org/1999/02/22-rdf-syntax-ns#\">\n   <cc:Work>\n    <dc:type rdf:resource=\"http://purl.org/dc/dcmitype/StillImage\"/>\n    <dc:date>2020-09-22T21:02:40.832105</dc:date>\n    <dc:format>image/svg+xml</dc:format>\n    <dc:creator>\n     <cc:Agent>\n      <dc:title>Matplotlib v3.3.0, https://matplotlib.org/</dc:title>\n     </cc:Agent>\n    </dc:creator>\n   </cc:Work>\n  </rdf:RDF>\n </metadata>\n <defs>\n  <style type=\"text/css\">*{stroke-linecap:butt;stroke-linejoin:round;}</style>\n </defs>\n <g id=\"figure_1\">\n  <g id=\"patch_1\">\n   <path d=\"M 0 277.314375 \nL 388.965625 277.314375 \nL 388.965625 0 \nL 0 0 \nz\n\" style=\"fill:none;\"/>\n  </g>\n  <g id=\"axes_1\">\n   <g id=\"patch_2\">\n    <path d=\"M 46.965625 239.758125 \nL 381.765625 239.758125 \nL 381.765625 22.318125 \nL 46.965625 22.318125 \nz\n\" style=\"fill:#ffffff;\"/>\n   </g>\n   <g id=\"matplotlib.axis_1\">\n    <g id=\"xtick_1\">\n     <g id=\"line2d_1\">\n      <defs>\n       <path d=\"M 0 0 \nL 0 3.5 \n\" id=\"m53c3f01ac0\" style=\"stroke:#000000;stroke-width:0.8;\"/>\n      </defs>\n      <g>\n       <use style=\"stroke:#000000;stroke-width:0.8;\" x=\"62.183807\" xlink:href=\"#m53c3f01ac0\" y=\"239.758125\"/>\n      </g>\n     </g>\n     <g id=\"text_1\">\n      <!-- 0 -->\n      <g transform=\"translate(59.002557 254.356562)scale(0.1 -0.1)\">\n       <defs>\n        <path d=\"M 31.78125 66.40625 \nQ 24.171875 66.40625 20.328125 58.90625 \nQ 16.5 51.421875 16.5 36.375 \nQ 16.5 21.390625 20.328125 13.890625 \nQ 24.171875 6.390625 31.78125 6.390625 \nQ 39.453125 6.390625 43.28125 13.890625 \nQ 47.125 21.390625 47.125 36.375 \nQ 47.125 51.421875 43.28125 58.90625 \nQ 39.453125 66.40625 31.78125 66.40625 \nz\nM 31.78125 74.21875 \nQ 44.046875 74.21875 50.515625 64.515625 \nQ 56.984375 54.828125 56.984375 36.375 \nQ 56.984375 17.96875 50.515625 8.265625 \nQ 44.046875 -1.421875 31.78125 -1.421875 \nQ 19.53125 -1.421875 13.0625 8.265625 \nQ 6.59375 17.96875 6.59375 36.375 \nQ 6.59375 54.828125 13.0625 64.515625 \nQ 19.53125 74.21875 31.78125 74.21875 \nz\n\" id=\"DejaVuSans-48\"/>\n       </defs>\n       <use xlink:href=\"#DejaVuSans-48\"/>\n      </g>\n     </g>\n    </g>\n    <g id=\"xtick_2\">\n     <g id=\"line2d_2\">\n      <g>\n       <use style=\"stroke:#000000;stroke-width:0.8;\" x=\"123.056534\" xlink:href=\"#m53c3f01ac0\" y=\"239.758125\"/>\n      </g>\n     </g>\n     <g id=\"text_2\">\n      <!-- 1 -->\n      <g transform=\"translate(119.875284 254.356562)scale(0.1 -0.1)\">\n       <defs>\n        <path d=\"M 12.40625 8.296875 \nL 28.515625 8.296875 \nL 28.515625 63.921875 \nL 10.984375 60.40625 \nL 10.984375 69.390625 \nL 28.421875 72.90625 \nL 38.28125 72.90625 \nL 38.28125 8.296875 \nL 54.390625 8.296875 \nL 54.390625 0 \nL 12.40625 0 \nz\n\" id=\"DejaVuSans-49\"/>\n       </defs>\n       <use xlink:href=\"#DejaVuSans-49\"/>\n      </g>\n     </g>\n    </g>\n    <g id=\"xtick_3\">\n     <g id=\"line2d_3\">\n      <g>\n       <use style=\"stroke:#000000;stroke-width:0.8;\" x=\"183.929261\" xlink:href=\"#m53c3f01ac0\" y=\"239.758125\"/>\n      </g>\n     </g>\n     <g id=\"text_3\">\n      <!-- 2 -->\n      <g transform=\"translate(180.748011 254.356562)scale(0.1 -0.1)\">\n       <defs>\n        <path d=\"M 19.1875 8.296875 \nL 53.609375 8.296875 \nL 53.609375 0 \nL 7.328125 0 \nL 7.328125 8.296875 \nQ 12.9375 14.109375 22.625 23.890625 \nQ 32.328125 33.6875 34.8125 36.53125 \nQ 39.546875 41.84375 41.421875 45.53125 \nQ 43.3125 49.21875 43.3125 52.78125 \nQ 43.3125 58.59375 39.234375 62.25 \nQ 35.15625 65.921875 28.609375 65.921875 \nQ 23.96875 65.921875 18.8125 64.3125 \nQ 13.671875 62.703125 7.8125 59.421875 \nL 7.8125 69.390625 \nQ 13.765625 71.78125 18.9375 73 \nQ 24.125 74.21875 28.421875 74.21875 \nQ 39.75 74.21875 46.484375 68.546875 \nQ 53.21875 62.890625 53.21875 53.421875 \nQ 53.21875 48.921875 51.53125 44.890625 \nQ 49.859375 40.875 45.40625 35.40625 \nQ 44.1875 33.984375 37.640625 27.21875 \nQ 31.109375 20.453125 19.1875 8.296875 \nz\n\" id=\"DejaVuSans-50\"/>\n       </defs>\n       <use xlink:href=\"#DejaVuSans-50\"/>\n      </g>\n     </g>\n    </g>\n    <g id=\"xtick_4\">\n     <g id=\"line2d_4\">\n      <g>\n       <use style=\"stroke:#000000;stroke-width:0.8;\" x=\"244.801989\" xlink:href=\"#m53c3f01ac0\" y=\"239.758125\"/>\n      </g>\n     </g>\n     <g id=\"text_4\">\n      <!-- 3 -->\n      <g transform=\"translate(241.620739 254.356562)scale(0.1 -0.1)\">\n       <defs>\n        <path d=\"M 40.578125 39.3125 \nQ 47.65625 37.796875 51.625 33 \nQ 55.609375 28.21875 55.609375 21.1875 \nQ 55.609375 10.40625 48.1875 4.484375 \nQ 40.765625 -1.421875 27.09375 -1.421875 \nQ 22.515625 -1.421875 17.65625 -0.515625 \nQ 12.796875 0.390625 7.625 2.203125 \nL 7.625 11.71875 \nQ 11.71875 9.328125 16.59375 8.109375 \nQ 21.484375 6.890625 26.8125 6.890625 \nQ 36.078125 6.890625 40.9375 10.546875 \nQ 45.796875 14.203125 45.796875 21.1875 \nQ 45.796875 27.640625 41.28125 31.265625 \nQ 36.765625 34.90625 28.71875 34.90625 \nL 20.21875 34.90625 \nL 20.21875 43.015625 \nL 29.109375 43.015625 \nQ 36.375 43.015625 40.234375 45.921875 \nQ 44.09375 48.828125 44.09375 54.296875 \nQ 44.09375 59.90625 40.109375 62.90625 \nQ 36.140625 65.921875 28.71875 65.921875 \nQ 24.65625 65.921875 20.015625 65.03125 \nQ 15.375 64.15625 9.8125 62.3125 \nL 9.8125 71.09375 \nQ 15.4375 72.65625 20.34375 73.4375 \nQ 25.25 74.21875 29.59375 74.21875 \nQ 40.828125 74.21875 47.359375 69.109375 \nQ 53.90625 64.015625 53.90625 55.328125 \nQ 53.90625 49.265625 50.4375 45.09375 \nQ 46.96875 40.921875 40.578125 39.3125 \nz\n\" id=\"DejaVuSans-51\"/>\n       </defs>\n       <use xlink:href=\"#DejaVuSans-51\"/>\n      </g>\n     </g>\n    </g>\n    <g id=\"xtick_5\">\n     <g id=\"line2d_5\">\n      <g>\n       <use style=\"stroke:#000000;stroke-width:0.8;\" x=\"305.674716\" xlink:href=\"#m53c3f01ac0\" y=\"239.758125\"/>\n      </g>\n     </g>\n     <g id=\"text_5\">\n      <!-- 4 -->\n      <g transform=\"translate(302.493466 254.356562)scale(0.1 -0.1)\">\n       <defs>\n        <path d=\"M 37.796875 64.3125 \nL 12.890625 25.390625 \nL 37.796875 25.390625 \nz\nM 35.203125 72.90625 \nL 47.609375 72.90625 \nL 47.609375 25.390625 \nL 58.015625 25.390625 \nL 58.015625 17.1875 \nL 47.609375 17.1875 \nL 47.609375 0 \nL 37.796875 0 \nL 37.796875 17.1875 \nL 4.890625 17.1875 \nL 4.890625 26.703125 \nz\n\" id=\"DejaVuSans-52\"/>\n       </defs>\n       <use xlink:href=\"#DejaVuSans-52\"/>\n      </g>\n     </g>\n    </g>\n    <g id=\"xtick_6\">\n     <g id=\"line2d_6\">\n      <g>\n       <use style=\"stroke:#000000;stroke-width:0.8;\" x=\"366.547443\" xlink:href=\"#m53c3f01ac0\" y=\"239.758125\"/>\n      </g>\n     </g>\n     <g id=\"text_6\">\n      <!-- 5 -->\n      <g transform=\"translate(363.366193 254.356562)scale(0.1 -0.1)\">\n       <defs>\n        <path d=\"M 10.796875 72.90625 \nL 49.515625 72.90625 \nL 49.515625 64.59375 \nL 19.828125 64.59375 \nL 19.828125 46.734375 \nQ 21.96875 47.46875 24.109375 47.828125 \nQ 26.265625 48.1875 28.421875 48.1875 \nQ 40.625 48.1875 47.75 41.5 \nQ 54.890625 34.8125 54.890625 23.390625 \nQ 54.890625 11.625 47.5625 5.09375 \nQ 40.234375 -1.421875 26.90625 -1.421875 \nQ 22.3125 -1.421875 17.546875 -0.640625 \nQ 12.796875 0.140625 7.71875 1.703125 \nL 7.71875 11.625 \nQ 12.109375 9.234375 16.796875 8.0625 \nQ 21.484375 6.890625 26.703125 6.890625 \nQ 35.15625 6.890625 40.078125 11.328125 \nQ 45.015625 15.765625 45.015625 23.390625 \nQ 45.015625 31 40.078125 35.4375 \nQ 35.15625 39.890625 26.703125 39.890625 \nQ 22.75 39.890625 18.8125 39.015625 \nQ 14.890625 38.140625 10.796875 36.28125 \nz\n\" id=\"DejaVuSans-53\"/>\n       </defs>\n       <use xlink:href=\"#DejaVuSans-53\"/>\n      </g>\n     </g>\n    </g>\n    <g id=\"text_7\">\n     <!-- Episode -->\n     <g transform=\"translate(194.728125 268.034687)scale(0.1 -0.1)\">\n      <defs>\n       <path d=\"M 9.8125 72.90625 \nL 55.90625 72.90625 \nL 55.90625 64.59375 \nL 19.671875 64.59375 \nL 19.671875 43.015625 \nL 54.390625 43.015625 \nL 54.390625 34.71875 \nL 19.671875 34.71875 \nL 19.671875 8.296875 \nL 56.78125 8.296875 \nL 56.78125 0 \nL 9.8125 0 \nz\n\" id=\"DejaVuSans-69\"/>\n       <path d=\"M 18.109375 8.203125 \nL 18.109375 -20.796875 \nL 9.078125 -20.796875 \nL 9.078125 54.6875 \nL 18.109375 54.6875 \nL 18.109375 46.390625 \nQ 20.953125 51.265625 25.265625 53.625 \nQ 29.59375 56 35.59375 56 \nQ 45.5625 56 51.78125 48.09375 \nQ 58.015625 40.1875 58.015625 27.296875 \nQ 58.015625 14.40625 51.78125 6.484375 \nQ 45.5625 -1.421875 35.59375 -1.421875 \nQ 29.59375 -1.421875 25.265625 0.953125 \nQ 20.953125 3.328125 18.109375 8.203125 \nz\nM 48.6875 27.296875 \nQ 48.6875 37.203125 44.609375 42.84375 \nQ 40.53125 48.484375 33.40625 48.484375 \nQ 26.265625 48.484375 22.1875 42.84375 \nQ 18.109375 37.203125 18.109375 27.296875 \nQ 18.109375 17.390625 22.1875 11.75 \nQ 26.265625 6.109375 33.40625 6.109375 \nQ 40.53125 6.109375 44.609375 11.75 \nQ 48.6875 17.390625 48.6875 27.296875 \nz\n\" id=\"DejaVuSans-112\"/>\n       <path d=\"M 9.421875 54.6875 \nL 18.40625 54.6875 \nL 18.40625 0 \nL 9.421875 0 \nz\nM 9.421875 75.984375 \nL 18.40625 75.984375 \nL 18.40625 64.59375 \nL 9.421875 64.59375 \nz\n\" id=\"DejaVuSans-105\"/>\n       <path d=\"M 44.28125 53.078125 \nL 44.28125 44.578125 \nQ 40.484375 46.53125 36.375 47.5 \nQ 32.28125 48.484375 27.875 48.484375 \nQ 21.1875 48.484375 17.84375 46.4375 \nQ 14.5 44.390625 14.5 40.28125 \nQ 14.5 37.15625 16.890625 35.375 \nQ 19.28125 33.59375 26.515625 31.984375 \nL 29.59375 31.296875 \nQ 39.15625 29.25 43.1875 25.515625 \nQ 47.21875 21.78125 47.21875 15.09375 \nQ 47.21875 7.46875 41.1875 3.015625 \nQ 35.15625 -1.421875 24.609375 -1.421875 \nQ 20.21875 -1.421875 15.453125 -0.5625 \nQ 10.6875 0.296875 5.421875 2 \nL 5.421875 11.28125 \nQ 10.40625 8.6875 15.234375 7.390625 \nQ 20.0625 6.109375 24.8125 6.109375 \nQ 31.15625 6.109375 34.5625 8.28125 \nQ 37.984375 10.453125 37.984375 14.40625 \nQ 37.984375 18.0625 35.515625 20.015625 \nQ 33.0625 21.96875 24.703125 23.78125 \nL 21.578125 24.515625 \nQ 13.234375 26.265625 9.515625 29.90625 \nQ 5.8125 33.546875 5.8125 39.890625 \nQ 5.8125 47.609375 11.28125 51.796875 \nQ 16.75 56 26.8125 56 \nQ 31.78125 56 36.171875 55.265625 \nQ 40.578125 54.546875 44.28125 53.078125 \nz\n\" id=\"DejaVuSans-115\"/>\n       <path d=\"M 30.609375 48.390625 \nQ 23.390625 48.390625 19.1875 42.75 \nQ 14.984375 37.109375 14.984375 27.296875 \nQ 14.984375 17.484375 19.15625 11.84375 \nQ 23.34375 6.203125 30.609375 6.203125 \nQ 37.796875 6.203125 41.984375 11.859375 \nQ 46.1875 17.53125 46.1875 27.296875 \nQ 46.1875 37.015625 41.984375 42.703125 \nQ 37.796875 48.390625 30.609375 48.390625 \nz\nM 30.609375 56 \nQ 42.328125 56 49.015625 48.375 \nQ 55.71875 40.765625 55.71875 27.296875 \nQ 55.71875 13.875 49.015625 6.21875 \nQ 42.328125 -1.421875 30.609375 -1.421875 \nQ 18.84375 -1.421875 12.171875 6.21875 \nQ 5.515625 13.875 5.515625 27.296875 \nQ 5.515625 40.765625 12.171875 48.375 \nQ 18.84375 56 30.609375 56 \nz\n\" id=\"DejaVuSans-111\"/>\n       <path d=\"M 45.40625 46.390625 \nL 45.40625 75.984375 \nL 54.390625 75.984375 \nL 54.390625 0 \nL 45.40625 0 \nL 45.40625 8.203125 \nQ 42.578125 3.328125 38.25 0.953125 \nQ 33.9375 -1.421875 27.875 -1.421875 \nQ 17.96875 -1.421875 11.734375 6.484375 \nQ 5.515625 14.40625 5.515625 27.296875 \nQ 5.515625 40.1875 11.734375 48.09375 \nQ 17.96875 56 27.875 56 \nQ 33.9375 56 38.25 53.625 \nQ 42.578125 51.265625 45.40625 46.390625 \nz\nM 14.796875 27.296875 \nQ 14.796875 17.390625 18.875 11.75 \nQ 22.953125 6.109375 30.078125 6.109375 \nQ 37.203125 6.109375 41.296875 11.75 \nQ 45.40625 17.390625 45.40625 27.296875 \nQ 45.40625 37.203125 41.296875 42.84375 \nQ 37.203125 48.484375 30.078125 48.484375 \nQ 22.953125 48.484375 18.875 42.84375 \nQ 14.796875 37.203125 14.796875 27.296875 \nz\n\" id=\"DejaVuSans-100\"/>\n       <path d=\"M 56.203125 29.59375 \nL 56.203125 25.203125 \nL 14.890625 25.203125 \nQ 15.484375 15.921875 20.484375 11.0625 \nQ 25.484375 6.203125 34.421875 6.203125 \nQ 39.59375 6.203125 44.453125 7.46875 \nQ 49.3125 8.734375 54.109375 11.28125 \nL 54.109375 2.78125 \nQ 49.265625 0.734375 44.1875 -0.34375 \nQ 39.109375 -1.421875 33.890625 -1.421875 \nQ 20.796875 -1.421875 13.15625 6.1875 \nQ 5.515625 13.8125 5.515625 26.8125 \nQ 5.515625 40.234375 12.765625 48.109375 \nQ 20.015625 56 32.328125 56 \nQ 43.359375 56 49.78125 48.890625 \nQ 56.203125 41.796875 56.203125 29.59375 \nz\nM 47.21875 32.234375 \nQ 47.125 39.59375 43.09375 43.984375 \nQ 39.0625 48.390625 32.421875 48.390625 \nQ 24.90625 48.390625 20.390625 44.140625 \nQ 15.875 39.890625 15.1875 32.171875 \nz\n\" id=\"DejaVuSans-101\"/>\n      </defs>\n      <use xlink:href=\"#DejaVuSans-69\"/>\n      <use x=\"63.183594\" xlink:href=\"#DejaVuSans-112\"/>\n      <use x=\"126.660156\" xlink:href=\"#DejaVuSans-105\"/>\n      <use x=\"154.443359\" xlink:href=\"#DejaVuSans-115\"/>\n      <use x=\"206.542969\" xlink:href=\"#DejaVuSans-111\"/>\n      <use x=\"267.724609\" xlink:href=\"#DejaVuSans-100\"/>\n      <use x=\"331.201172\" xlink:href=\"#DejaVuSans-101\"/>\n     </g>\n    </g>\n   </g>\n   <g id=\"matplotlib.axis_2\">\n    <g id=\"ytick_1\">\n     <g id=\"line2d_7\">\n      <defs>\n       <path d=\"M 0 0 \nL -3.5 0 \n\" id=\"m6ba37fad7e\" style=\"stroke:#000000;stroke-width:0.8;\"/>\n      </defs>\n      <g>\n       <use style=\"stroke:#000000;stroke-width:0.8;\" x=\"46.965625\" xlink:href=\"#m6ba37fad7e\" y=\"218.478722\"/>\n      </g>\n     </g>\n     <g id=\"text_8\">\n      <!-- 25 -->\n      <g transform=\"translate(27.240625 222.27794)scale(0.1 -0.1)\">\n       <use xlink:href=\"#DejaVuSans-50\"/>\n       <use x=\"63.623047\" xlink:href=\"#DejaVuSans-53\"/>\n      </g>\n     </g>\n    </g>\n    <g id=\"ytick_2\">\n     <g id=\"line2d_8\">\n      <g>\n       <use style=\"stroke:#000000;stroke-width:0.8;\" x=\"46.965625\" xlink:href=\"#m6ba37fad7e\" y=\"191.085051\"/>\n      </g>\n     </g>\n     <g id=\"text_9\">\n      <!-- 50 -->\n      <g transform=\"translate(27.240625 194.88427)scale(0.1 -0.1)\">\n       <use xlink:href=\"#DejaVuSans-53\"/>\n       <use x=\"63.623047\" xlink:href=\"#DejaVuSans-48\"/>\n      </g>\n     </g>\n    </g>\n    <g id=\"ytick_3\">\n     <g id=\"line2d_9\">\n      <g>\n       <use style=\"stroke:#000000;stroke-width:0.8;\" x=\"46.965625\" xlink:href=\"#m6ba37fad7e\" y=\"163.69138\"/>\n      </g>\n     </g>\n     <g id=\"text_10\">\n      <!-- 75 -->\n      <g transform=\"translate(27.240625 167.490599)scale(0.1 -0.1)\">\n       <defs>\n        <path d=\"M 8.203125 72.90625 \nL 55.078125 72.90625 \nL 55.078125 68.703125 \nL 28.609375 0 \nL 18.3125 0 \nL 43.21875 64.59375 \nL 8.203125 64.59375 \nz\n\" id=\"DejaVuSans-55\"/>\n       </defs>\n       <use xlink:href=\"#DejaVuSans-55\"/>\n       <use x=\"63.623047\" xlink:href=\"#DejaVuSans-53\"/>\n      </g>\n     </g>\n    </g>\n    <g id=\"ytick_4\">\n     <g id=\"line2d_10\">\n      <g>\n       <use style=\"stroke:#000000;stroke-width:0.8;\" x=\"46.965625\" xlink:href=\"#m6ba37fad7e\" y=\"136.29771\"/>\n      </g>\n     </g>\n     <g id=\"text_11\">\n      <!-- 100 -->\n      <g transform=\"translate(20.878125 140.096929)scale(0.1 -0.1)\">\n       <use xlink:href=\"#DejaVuSans-49\"/>\n       <use x=\"63.623047\" xlink:href=\"#DejaVuSans-48\"/>\n       <use x=\"127.246094\" xlink:href=\"#DejaVuSans-48\"/>\n      </g>\n     </g>\n    </g>\n    <g id=\"ytick_5\">\n     <g id=\"line2d_11\">\n      <g>\n       <use style=\"stroke:#000000;stroke-width:0.8;\" x=\"46.965625\" xlink:href=\"#m6ba37fad7e\" y=\"108.904039\"/>\n      </g>\n     </g>\n     <g id=\"text_12\">\n      <!-- 125 -->\n      <g transform=\"translate(20.878125 112.703258)scale(0.1 -0.1)\">\n       <use xlink:href=\"#DejaVuSans-49\"/>\n       <use x=\"63.623047\" xlink:href=\"#DejaVuSans-50\"/>\n       <use x=\"127.246094\" xlink:href=\"#DejaVuSans-53\"/>\n      </g>\n     </g>\n    </g>\n    <g id=\"ytick_6\">\n     <g id=\"line2d_12\">\n      <g>\n       <use style=\"stroke:#000000;stroke-width:0.8;\" x=\"46.965625\" xlink:href=\"#m6ba37fad7e\" y=\"81.510368\"/>\n      </g>\n     </g>\n     <g id=\"text_13\">\n      <!-- 150 -->\n      <g transform=\"translate(20.878125 85.309587)scale(0.1 -0.1)\">\n       <use xlink:href=\"#DejaVuSans-49\"/>\n       <use x=\"63.623047\" xlink:href=\"#DejaVuSans-53\"/>\n       <use x=\"127.246094\" xlink:href=\"#DejaVuSans-48\"/>\n      </g>\n     </g>\n    </g>\n    <g id=\"ytick_7\">\n     <g id=\"line2d_13\">\n      <g>\n       <use style=\"stroke:#000000;stroke-width:0.8;\" x=\"46.965625\" xlink:href=\"#m6ba37fad7e\" y=\"54.116698\"/>\n      </g>\n     </g>\n     <g id=\"text_14\">\n      <!-- 175 -->\n      <g transform=\"translate(20.878125 57.915917)scale(0.1 -0.1)\">\n       <use xlink:href=\"#DejaVuSans-49\"/>\n       <use x=\"63.623047\" xlink:href=\"#DejaVuSans-55\"/>\n       <use x=\"127.246094\" xlink:href=\"#DejaVuSans-53\"/>\n      </g>\n     </g>\n    </g>\n    <g id=\"ytick_8\">\n     <g id=\"line2d_14\">\n      <g>\n       <use style=\"stroke:#000000;stroke-width:0.8;\" x=\"46.965625\" xlink:href=\"#m6ba37fad7e\" y=\"26.723027\"/>\n      </g>\n     </g>\n     <g id=\"text_15\">\n      <!-- 200 -->\n      <g transform=\"translate(20.878125 30.522246)scale(0.1 -0.1)\">\n       <use xlink:href=\"#DejaVuSans-50\"/>\n       <use x=\"63.623047\" xlink:href=\"#DejaVuSans-48\"/>\n       <use x=\"127.246094\" xlink:href=\"#DejaVuSans-48\"/>\n      </g>\n     </g>\n    </g>\n    <g id=\"text_16\">\n     <!-- Total reward -->\n     <g transform=\"translate(14.798438 161.618594)rotate(-90)scale(0.1 -0.1)\">\n      <defs>\n       <path d=\"M -0.296875 72.90625 \nL 61.375 72.90625 \nL 61.375 64.59375 \nL 35.5 64.59375 \nL 35.5 0 \nL 25.59375 0 \nL 25.59375 64.59375 \nL -0.296875 64.59375 \nz\n\" id=\"DejaVuSans-84\"/>\n       <path d=\"M 18.3125 70.21875 \nL 18.3125 54.6875 \nL 36.8125 54.6875 \nL 36.8125 47.703125 \nL 18.3125 47.703125 \nL 18.3125 18.015625 \nQ 18.3125 11.328125 20.140625 9.421875 \nQ 21.96875 7.515625 27.59375 7.515625 \nL 36.8125 7.515625 \nL 36.8125 0 \nL 27.59375 0 \nQ 17.1875 0 13.234375 3.875 \nQ 9.28125 7.765625 9.28125 18.015625 \nL 9.28125 47.703125 \nL 2.6875 47.703125 \nL 2.6875 54.6875 \nL 9.28125 54.6875 \nL 9.28125 70.21875 \nz\n\" id=\"DejaVuSans-116\"/>\n       <path d=\"M 34.28125 27.484375 \nQ 23.390625 27.484375 19.1875 25 \nQ 14.984375 22.515625 14.984375 16.5 \nQ 14.984375 11.71875 18.140625 8.90625 \nQ 21.296875 6.109375 26.703125 6.109375 \nQ 34.1875 6.109375 38.703125 11.40625 \nQ 43.21875 16.703125 43.21875 25.484375 \nL 43.21875 27.484375 \nz\nM 52.203125 31.203125 \nL 52.203125 0 \nL 43.21875 0 \nL 43.21875 8.296875 \nQ 40.140625 3.328125 35.546875 0.953125 \nQ 30.953125 -1.421875 24.3125 -1.421875 \nQ 15.921875 -1.421875 10.953125 3.296875 \nQ 6 8.015625 6 15.921875 \nQ 6 25.140625 12.171875 29.828125 \nQ 18.359375 34.515625 30.609375 34.515625 \nL 43.21875 34.515625 \nL 43.21875 35.40625 \nQ 43.21875 41.609375 39.140625 45 \nQ 35.0625 48.390625 27.6875 48.390625 \nQ 23 48.390625 18.546875 47.265625 \nQ 14.109375 46.140625 10.015625 43.890625 \nL 10.015625 52.203125 \nQ 14.9375 54.109375 19.578125 55.046875 \nQ 24.21875 56 28.609375 56 \nQ 40.484375 56 46.34375 49.84375 \nQ 52.203125 43.703125 52.203125 31.203125 \nz\n\" id=\"DejaVuSans-97\"/>\n       <path d=\"M 9.421875 75.984375 \nL 18.40625 75.984375 \nL 18.40625 0 \nL 9.421875 0 \nz\n\" id=\"DejaVuSans-108\"/>\n       <path id=\"DejaVuSans-32\"/>\n       <path d=\"M 41.109375 46.296875 \nQ 39.59375 47.171875 37.8125 47.578125 \nQ 36.03125 48 33.890625 48 \nQ 26.265625 48 22.1875 43.046875 \nQ 18.109375 38.09375 18.109375 28.8125 \nL 18.109375 0 \nL 9.078125 0 \nL 9.078125 54.6875 \nL 18.109375 54.6875 \nL 18.109375 46.1875 \nQ 20.953125 51.171875 25.484375 53.578125 \nQ 30.03125 56 36.53125 56 \nQ 37.453125 56 38.578125 55.875 \nQ 39.703125 55.765625 41.0625 55.515625 \nz\n\" id=\"DejaVuSans-114\"/>\n       <path d=\"M 4.203125 54.6875 \nL 13.1875 54.6875 \nL 24.421875 12.015625 \nL 35.59375 54.6875 \nL 46.1875 54.6875 \nL 57.421875 12.015625 \nL 68.609375 54.6875 \nL 77.59375 54.6875 \nL 63.28125 0 \nL 52.6875 0 \nL 40.921875 44.828125 \nL 29.109375 0 \nL 18.5 0 \nz\n\" id=\"DejaVuSans-119\"/>\n      </defs>\n      <use xlink:href=\"#DejaVuSans-84\"/>\n      <use x=\"44.083984\" xlink:href=\"#DejaVuSans-111\"/>\n      <use x=\"105.265625\" xlink:href=\"#DejaVuSans-116\"/>\n      <use x=\"144.474609\" xlink:href=\"#DejaVuSans-97\"/>\n      <use x=\"205.753906\" xlink:href=\"#DejaVuSans-108\"/>\n      <use x=\"233.537109\" xlink:href=\"#DejaVuSans-32\"/>\n      <use x=\"265.324219\" xlink:href=\"#DejaVuSans-114\"/>\n      <use x=\"304.1875\" xlink:href=\"#DejaVuSans-101\"/>\n      <use x=\"365.710938\" xlink:href=\"#DejaVuSans-119\"/>\n      <use x=\"447.498047\" xlink:href=\"#DejaVuSans-97\"/>\n      <use x=\"508.777344\" xlink:href=\"#DejaVuSans-114\"/>\n      <use x=\"548.140625\" xlink:href=\"#DejaVuSans-100\"/>\n     </g>\n    </g>\n   </g>\n   <g id=\"LineCollection_1\">\n    <path clip-path=\"url(#p58e3b30bcd)\" d=\"M 62.183807 32.201761 \nL 366.547443 32.201761 \n\" style=\"fill:none;stroke:#808080;stroke-dasharray:1.5,2.475;stroke-dashoffset:0;stroke-width:1.5;\"/>\n   </g>\n   <g id=\"line2d_15\">\n    <path clip-path=\"url(#p58e3b30bcd)\" d=\"M 62.183807 218.040423 \nL 123.056534 229.874489 \nL 183.929261 224.834053 \nL 244.801989 224.614904 \nL 305.674716 216.068079 \n\" style=\"fill:none;stroke:#1f77b4;stroke-linecap:square;stroke-width:1.5;\"/>\n   </g>\n   <g id=\"patch_3\">\n    <path d=\"M 46.965625 239.758125 \nL 46.965625 22.318125 \n\" style=\"fill:none;stroke:#000000;stroke-linecap:square;stroke-linejoin:miter;stroke-width:0.8;\"/>\n   </g>\n   <g id=\"patch_4\">\n    <path d=\"M 381.765625 239.758125 \nL 381.765625 22.318125 \n\" style=\"fill:none;stroke:#000000;stroke-linecap:square;stroke-linejoin:miter;stroke-width:0.8;\"/>\n   </g>\n   <g id=\"patch_5\">\n    <path d=\"M 46.965625 239.758125 \nL 381.765625 239.758125 \n\" style=\"fill:none;stroke:#000000;stroke-linecap:square;stroke-linejoin:miter;stroke-width:0.8;\"/>\n   </g>\n   <g id=\"patch_6\">\n    <path d=\"M 46.965625 22.318125 \nL 381.765625 22.318125 \n\" style=\"fill:none;stroke:#000000;stroke-linecap:square;stroke-linejoin:miter;stroke-width:0.8;\"/>\n   </g>\n   <g id=\"text_17\">\n    <!-- (ORF) Total reward per episode -->\n    <g transform=\"translate(121.490313 16.318125)scale(0.12 -0.12)\">\n     <defs>\n      <path d=\"M 31 75.875 \nQ 24.46875 64.65625 21.28125 53.65625 \nQ 18.109375 42.671875 18.109375 31.390625 \nQ 18.109375 20.125 21.3125 9.0625 \nQ 24.515625 -2 31 -13.1875 \nL 23.1875 -13.1875 \nQ 15.875 -1.703125 12.234375 9.375 \nQ 8.59375 20.453125 8.59375 31.390625 \nQ 8.59375 42.28125 12.203125 53.3125 \nQ 15.828125 64.359375 23.1875 75.875 \nz\n\" id=\"DejaVuSans-40\"/>\n      <path d=\"M 39.40625 66.21875 \nQ 28.65625 66.21875 22.328125 58.203125 \nQ 16.015625 50.203125 16.015625 36.375 \nQ 16.015625 22.609375 22.328125 14.59375 \nQ 28.65625 6.59375 39.40625 6.59375 \nQ 50.140625 6.59375 56.421875 14.59375 \nQ 62.703125 22.609375 62.703125 36.375 \nQ 62.703125 50.203125 56.421875 58.203125 \nQ 50.140625 66.21875 39.40625 66.21875 \nz\nM 39.40625 74.21875 \nQ 54.734375 74.21875 63.90625 63.9375 \nQ 73.09375 53.65625 73.09375 36.375 \nQ 73.09375 19.140625 63.90625 8.859375 \nQ 54.734375 -1.421875 39.40625 -1.421875 \nQ 24.03125 -1.421875 14.8125 8.828125 \nQ 5.609375 19.09375 5.609375 36.375 \nQ 5.609375 53.65625 14.8125 63.9375 \nQ 24.03125 74.21875 39.40625 74.21875 \nz\n\" id=\"DejaVuSans-79\"/>\n      <path d=\"M 44.390625 34.1875 \nQ 47.5625 33.109375 50.5625 29.59375 \nQ 53.5625 26.078125 56.59375 19.921875 \nL 66.609375 0 \nL 56 0 \nL 46.6875 18.703125 \nQ 43.0625 26.03125 39.671875 28.421875 \nQ 36.28125 30.8125 30.421875 30.8125 \nL 19.671875 30.8125 \nL 19.671875 0 \nL 9.8125 0 \nL 9.8125 72.90625 \nL 32.078125 72.90625 \nQ 44.578125 72.90625 50.734375 67.671875 \nQ 56.890625 62.453125 56.890625 51.90625 \nQ 56.890625 45.015625 53.6875 40.46875 \nQ 50.484375 35.9375 44.390625 34.1875 \nz\nM 19.671875 64.796875 \nL 19.671875 38.921875 \nL 32.078125 38.921875 \nQ 39.203125 38.921875 42.84375 42.21875 \nQ 46.484375 45.515625 46.484375 51.90625 \nQ 46.484375 58.296875 42.84375 61.546875 \nQ 39.203125 64.796875 32.078125 64.796875 \nz\n\" id=\"DejaVuSans-82\"/>\n      <path d=\"M 9.8125 72.90625 \nL 51.703125 72.90625 \nL 51.703125 64.59375 \nL 19.671875 64.59375 \nL 19.671875 43.109375 \nL 48.578125 43.109375 \nL 48.578125 34.8125 \nL 19.671875 34.8125 \nL 19.671875 0 \nL 9.8125 0 \nz\n\" id=\"DejaVuSans-70\"/>\n      <path d=\"M 8.015625 75.875 \nL 15.828125 75.875 \nQ 23.140625 64.359375 26.78125 53.3125 \nQ 30.421875 42.28125 30.421875 31.390625 \nQ 30.421875 20.453125 26.78125 9.375 \nQ 23.140625 -1.703125 15.828125 -13.1875 \nL 8.015625 -13.1875 \nQ 14.5 -2 17.703125 9.0625 \nQ 20.90625 20.125 20.90625 31.390625 \nQ 20.90625 42.671875 17.703125 53.65625 \nQ 14.5 64.65625 8.015625 75.875 \nz\n\" id=\"DejaVuSans-41\"/>\n     </defs>\n     <use xlink:href=\"#DejaVuSans-40\"/>\n     <use x=\"39.013672\" xlink:href=\"#DejaVuSans-79\"/>\n     <use x=\"117.724609\" xlink:href=\"#DejaVuSans-82\"/>\n     <use x=\"187.207031\" xlink:href=\"#DejaVuSans-70\"/>\n     <use x=\"244.726562\" xlink:href=\"#DejaVuSans-41\"/>\n     <use x=\"283.740234\" xlink:href=\"#DejaVuSans-32\"/>\n     <use x=\"315.527344\" xlink:href=\"#DejaVuSans-84\"/>\n     <use x=\"359.611328\" xlink:href=\"#DejaVuSans-111\"/>\n     <use x=\"420.792969\" xlink:href=\"#DejaVuSans-116\"/>\n     <use x=\"460.001953\" xlink:href=\"#DejaVuSans-97\"/>\n     <use x=\"521.28125\" xlink:href=\"#DejaVuSans-108\"/>\n     <use x=\"549.064453\" xlink:href=\"#DejaVuSans-32\"/>\n     <use x=\"580.851562\" xlink:href=\"#DejaVuSans-114\"/>\n     <use x=\"619.714844\" xlink:href=\"#DejaVuSans-101\"/>\n     <use x=\"681.238281\" xlink:href=\"#DejaVuSans-119\"/>\n     <use x=\"763.025391\" xlink:href=\"#DejaVuSans-97\"/>\n     <use x=\"824.304688\" xlink:href=\"#DejaVuSans-114\"/>\n     <use x=\"863.667969\" xlink:href=\"#DejaVuSans-100\"/>\n     <use x=\"927.144531\" xlink:href=\"#DejaVuSans-32\"/>\n     <use x=\"958.931641\" xlink:href=\"#DejaVuSans-112\"/>\n     <use x=\"1022.408203\" xlink:href=\"#DejaVuSans-101\"/>\n     <use x=\"1083.931641\" xlink:href=\"#DejaVuSans-114\"/>\n     <use x=\"1125.044922\" xlink:href=\"#DejaVuSans-32\"/>\n     <use x=\"1156.832031\" xlink:href=\"#DejaVuSans-101\"/>\n     <use x=\"1218.355469\" xlink:href=\"#DejaVuSans-112\"/>\n     <use x=\"1281.832031\" xlink:href=\"#DejaVuSans-105\"/>\n     <use x=\"1309.615234\" xlink:href=\"#DejaVuSans-115\"/>\n     <use x=\"1361.714844\" xlink:href=\"#DejaVuSans-111\"/>\n     <use x=\"1422.896484\" xlink:href=\"#DejaVuSans-100\"/>\n     <use x=\"1486.373047\" xlink:href=\"#DejaVuSans-101\"/>\n    </g>\n   </g>\n  </g>\n </g>\n <defs>\n  <clipPath id=\"p58e3b30bcd\">\n   <rect height=\"217.44\" width=\"334.8\" x=\"46.965625\" y=\"22.318125\"/>\n  </clipPath>\n </defs>\n</svg>\n",
      "image/png": "[encoded data removed]"
     },
     "metadata": {
      "needs_background": "light"
     }
    },
    {
     "output_type": "display_data",
     "data": {
      "text/plain": "<Figure size 432x288 with 0 Axes>"
     },
     "metadata": {}
    }
   ],
   "source": [
    "backup_file_name = \"ORF_CartPole_\" + time.strftime(\"%y%m%d\") + \"_1\"\n",
    "img_file = backup_file_name + \".jpg\"\n",
    "plt.plot(mean_total_reward_episode)\n",
    "plt.title(\"(ORF) Total reward per episode\")\n",
    "plt.xlabel(\"Episode\")\n",
    "plt.ylabel(\"Total reward\")\n",
    "plt.hlines(195, xmin=0, xmax=n_episode, linestyles=\"dotted\", colors=\"gray\")\n",
    "plt.show()\n",
    "plt.savefig(fname = img_file)"
   ]
  },
  {
   "cell_type": "code",
   "execution_count": 25,
   "metadata": {},
   "outputs": [],
   "source": [
    "# To back-up the work\n",
    "backup_file = backup_file_name + \".p\"\n",
    "backup_check = os.path.isfile(backup_file)\n",
    "\n",
    "myEnv = dict()\n",
    "myEnv[\"t_r_e\"] = total_reward_episode\n",
    "myEnv[\"duration\"] = duration\n",
    "myEnv[\"episode_details\"] = ep\n",
    "myEnv[\"ORFparams\"] = ORFparams\n",
    "myEnv[\"QLparams\"] = QLparams\n",
    "# myEnv[\"ORF_params\"] = params\n",
    "\n",
    "with open(backup_file, \"wb\") as file:\n",
    "    pickle.dump(myEnv, file)"
   ]
  },
  {
   "cell_type": "code",
   "execution_count": null,
   "metadata": {},
   "outputs": [],
   "source": [
    "# About Cartpole\n",
    "    \"\"\"\n",
    "    Description:\n",
    "        A pole is attached by an un-actuated joint to a cart, which moves along\n",
    "        a frictionless track. The pendulum starts upright, and the goal is to\n",
    "        prevent it from falling over by increasing and reducing the cart's\n",
    "        velocity.\n",
    "    \n",
    "    Source:\n",
    "        This environment corresponds to the version of the cart-pole problem\n",
    "        described by Barto, Sutton, and Anderson\n",
    "    \n",
    "    Observation:\n",
    "        Type: Box(4)\n",
    "        Num     Observation               Min                     Max\n",
    "        0       Cart Position             -4.8                    4.8\n",
    "        1       Cart Velocity             -Inf                    Inf\n",
    "        2       Pole Angle                -0.418 rad (-24 deg)    0.418 rad (24 deg)\n",
    "        3       Pole Angular Velocity     -Inf                    Inf\n",
    "    \n",
    "    Actions:\n",
    "        Type: Discrete(2)\n",
    "        Num   Action\n",
    "        0     Push cart to the left\n",
    "        1     Push cart to the right\n",
    "        Note: The amount the velocity that is reduced or increased is not\n",
    "        fixed; it depends on the angle the pole is pointing. This is because\n",
    "        the center of gravity of the pole increases the amount of energy needed\n",
    "        to move the cart underneath it\n",
    "    \n",
    "    Reward:\n",
    "        Reward is 1 for every step taken, including the termination step\n",
    "    \n",
    "    Starting State:\n",
    "        All observations are assigned a uniform random value in [-0.05..0.05]\n",
    "    \n",
    "    Episode Termination:\n",
    "        Pole Angle is more than 12 degrees.\n",
    "        Cart Position is more than 2.4 (center of the cart reaches the edge of\n",
    "        the display).\n",
    "        Episode length is greater than 200.\n",
    "    \n",
    "    Solved Requirements:\n",
    "        Considered solved when the average return is greater than or equal to\n",
    "        195.0 over 100 consecutive trials.\n",
    "    \"\"\"\n"
   ]
  },
  {
   "cell_type": "code",
   "execution_count": 8,
   "metadata": {
    "tags": [
     "outputPrepend"
    ]
   },
   "outputs": [
    {
     "output_type": "stream",
     "name": "stdout",
     "text": "ning)\n        6    0.000    0.000    0.000    0.000 _common.py:13(tzname_in_python2)\n        1    0.000    0.000    0.000    0.000 _parser.py:667(_result)\n        1    0.000    0.000    0.000    0.000 _subplots.py:218(<genexpr>)\n        1    0.000    0.000    0.000    0.000 GimpGradientFile.py:66(GradientFile)\n        1    0.000    0.000    0.000    0.000 figure.py:154(AxesStack)\n        1    0.000    0.000    0.000    0.000 PngImagePlugin.py:981(_idat)\n        1    0.000    0.000    0.000    0.000 PngImagePlugin.py:992(_fdat)\n        1    0.000    0.000    0.000    0.000 ImageFile.py:570(PyCodecState)\n        1    0.000    0.000    0.000    0.000 _monitor.py:8(TqdmSynchronisationWarning)\n        1    0.000    0.000    0.000    0.000 __init__.py:424(StrFormatStyle)\n        1    0.000    0.000    0.000    0.000 __init__.py:433(StringTemplateStyle)\n        1    0.000    0.000    0.000    0.000 __init__.py:674(Filter)\n        1    0.000    0.000    0.000    0.000 std.py:34(TqdmTypeError)\n        1    0.000    0.000    0.000    0.000 std.py:38(TqdmKeyError)\n        1    0.000    0.000    0.000    0.000 std.py:85(<listcomp>)\n        1    0.000    0.000    0.000    0.000 context.py:14(ProcessError)\n        1    0.000    0.000    0.000    0.000 context.py:17(BufferTooShort)\n        1    0.000    0.000    0.000    0.000 context.py:20(TimeoutError)\n        6    0.000    0.000    0.000    0.000 context.py:186(get_context)\n        1    0.000    0.000    0.000    0.000 context.py:297(SpawnContext)\n        1    0.000    0.000    0.000    0.000 context.py:301(ForkServerContext)\n        1    0.000    0.000    0.000    0.000 process.py:325(AuthenticationString)\n        1    0.000    0.000    0.000    0.000 process.py:339(_MainProcess)\n        1    0.000    0.000    0.000    0.000 socket.py:130(_GiveupOnSendfile)\n        1    0.000    0.000    0.000    0.000 copy.py:55(Error)\n        1    0.000    0.000    0.000    0.000 extras.py:270(_fromnxfunction_single)\n        1    0.000    0.000    0.000    0.000 extras.py:326(_fromnxfunction_allargs)\n        1    0.000    0.000    0.000    0.000 extras.py:1502(mr_class)\n        1    0.000    0.000    0.000    0.000 logger.py:24(info)\n        1    0.000    0.000    0.000    0.000 core.py:155(MAError)\n        3    0.000    0.000    0.000    0.000 core.py:807(__init__)\n        1    0.000    0.000    0.000    0.000 core.py:798(_DomainCheckInterval)\n        1    0.000    0.000    0.000    0.000 core.py:831(__init__)\n        1    0.000    0.000    0.000    0.000 core.py:841(_DomainSafeDivide)\n        3    0.000    0.000    0.000    0.000 core.py:868(__init__)\n        2    0.000    0.000    0.000    0.000 core.py:884(__init__)\n        1    0.000    0.000    0.000    0.000 core.py:1126(_DomainedBinaryOperation)\n        1    0.000    0.000    0.000    0.000 core.py:2389(__init__)\n        1    0.000    0.000    0.000    0.000 random.py:691(seed)\n        1    0.000    0.000    0.000    0.000 polyutils.py:60(RankWarning)\n        1    0.000    0.000    0.000    0.000 polyutils.py:68(PolyDomainError)\n        1    0.000    0.000    0.000    0.000 polyutils.py:81(PolyBase)\n        1    0.000    0.000    0.000    0.000 gridspec.py:710(get_gridspec)\n        1    0.000    0.000    0.000    0.000 backend_managers.py:11(ToolEvent)\n        1    0.000    0.000    0.000    0.000 backend_managers.py:20(ToolTriggerEvent)\n        1    0.000    0.000    0.000    0.000 _iotools.py:421(ConverterError)\n        1    0.000    0.000    0.000    0.000 _iotools.py:429(ConverterLockError)\n        1    0.000    0.000    0.000    0.000 _iotools.py:437(ConversionWarning)\n        1    0.000    0.000    0.000    0.000 shutil.py:58(SameFileError)\n        1    0.000    0.000    0.000    0.000 shutil.py:61(SpecialFileError)\n        1    0.000    0.000    0.000    0.000 shutil.py:65(ExecError)\n        1    0.000    0.000    0.000    0.000 shutil.py:68(ReadError)\n        1    0.000    0.000    0.000    0.000 utils.py:57(_Deprecate)\n        1    0.000    0.000    0.000    0.000 stride_tricks.py:14(DummyArray)\n        2    0.000    0.000    0.000    0.000 index_tricks.py:143(__init__)\n        1    0.000    0.000    0.000    0.000 index_tricks.py:208(MGridClass)\n        1    0.000    0.000    0.000    0.000 index_tricks.py:522(CClass)\n        1    0.000    0.000    0.000    0.000 index_tricks.py:680(IndexExpression)\n        1    0.000    0.000    0.000    0.000 linalg.py:43(LinAlgError)\n        1    0.000    0.000    0.000    0.000 __init__.py:160(c_short)\n        1    0.000    0.000    0.000    0.000 __init__.py:164(c_ushort)\n        1    0.000    0.000    0.000    0.000 __init__.py:168(c_long)\n        1    0.000    0.000    0.000    0.000 __init__.py:172(c_ulong)\n        1    0.000    0.000    0.000    0.000 __init__.py:181(c_int)\n        1    0.000    0.000    0.000    0.000 __init__.py:185(c_uint)\n        1    0.000    0.000    0.000    0.000 __init__.py:189(c_float)\n        1    0.000    0.000    0.000    0.000 __init__.py:193(c_double)\n        1    0.000    0.000    0.000    0.000 __init__.py:197(c_longdouble)\n        1    0.000    0.000    0.000    0.000 __init__.py:225(c_byte)\n        1    0.000    0.000    0.000    0.000 __init__.py:230(c_char)\n        1    0.000    0.000    0.000    0.000 __init__.py:241(c_void_p)\n        1    0.000    0.000    0.000    0.000 __init__.py:246(c_bool)\n        1    0.000    0.000    0.000    0.000 __init__.py:251(c_wchar_p)\n        1    0.000    0.000    0.000    0.000 __init__.py:256(c_wchar)\n        1    0.000    0.000    0.000    0.000 __init__.py:387(PyDLL)\n        1    0.000    0.000    0.000    0.000 ast.py:284(NodeTransformer)\n        1    0.000    0.000    0.000    0.000 subprocess.py:57(SubprocessError)\n        1    0.000    0.000    0.000    0.000 subprocess.py:414(CompletedProcess)\n        2    0.000    0.000    0.000    0.000 arrayprint.py:448(_recursive_guard)\n        1    0.000    0.000    0.000    0.000 arrayprint.py:1123(IntegerFormat)\n        1    0.000    0.000    0.000    0.000 arrayprint.py:1146(ComplexFloatingFormat)\n        1    0.000    0.000    0.000    0.000 arrayprint.py:1237(TimedeltaFormat)\n        1    0.000    0.000    0.000    0.000 arrayprint.py:1242(SubArrayFormat)\n        1    0.000    0.000    0.000    0.000 pickle.py:64(PickleError)\n        1    0.000    0.000    0.000    0.000 pathlib.py:517(_WildcardSelector)\n        1    0.000    0.000    0.000    0.000 pathlib.py:1492(PosixPath)\n        1    0.000    0.000    0.000    0.000 backend_tools.py:366(RubberbandBase)\n        1    0.000    0.000    0.000    0.000 backend_tools.py:424(ToolEnableAllNavigation)\n        1    0.000    0.000    0.000    0.000 backend_tools.py:721(ConfigureSubplotsBase)\n        1    0.000    0.000    0.000    0.000 widgets.py:91(AxesWidget)\n        1    0.000    0.000    0.000    0.000 widgets.py:133(Button)\n        1    0.000    0.000    0.000    0.000 backend_bases.py:1207(Event)\n        1    0.000    0.000    0.000    0.000 backend_bases.py:1228(DrawEvent)\n        1    0.000    0.000    0.000    0.000 backend_bases.py:1255(ResizeEvent)\n        1    0.000    0.000    0.000    0.000 ImageMode.py:20(ModeDescriptor)\n        1    0.000    0.000    0.000    0.000 _util.py:25(deferred_error)\n        1    0.000    0.000    0.000    0.000 Image.py:2541(ImageTransformHandler)\n        1    0.000    0.000    0.000    0.000 ElementTree.py:105(ParseError)\n        1    0.000    0.000    0.000    0.000 __init__.py:17(<module>)\n        1    0.000    0.000    0.000    0.000 ElementPath.py:255(_SelectorContext)\n        1    0.000    0.000    0.000    0.000 mathtext.py:1438(Hbox)\n        1    0.000    0.000    0.000    0.000 mathtext.py:1811(Rule)\n        1    0.000    0.000    0.000    0.000 mathtext.py:1830(Hrule)\n        1    0.000    0.000    0.000    0.000 mathtext.py:1841(Vrule)\n        1    0.000    0.000    0.000    0.000 mathtext.py:1933(Fil)\n        1    0.000    0.000    0.000    0.000 mathtext.py:1957(NegFill)\n        1    0.000    0.000    0.000    0.000 mathtext.py:1963(NegFilll)\n        1    0.000    0.000    0.000    0.000 mathtext.py:1985(VCentered)\n        1    0.000    0.000    0.000    0.000 mathtext.py:2041(AutoHeightChar)\n        1    0.000    0.000    0.000    0.000 mathtext.py:2080(AutoWidthChar)\n        1    0.000    0.000    0.000    0.000 __init__.py:134(UnidentifiedImageError)\n        1    0.000    0.000    0.000    0.000 Image.py:76(DecompressionBombWarning)\n        1    0.000    0.000    0.000    0.000 Image.py:80(DecompressionBombError)\n        1    0.000    0.000    0.000    0.000 dviread.py:734(Tfm)\n        1    0.000    0.000    0.000    0.000 mathtext.py:321(MathtextBackendPath)\n        1    0.000    0.000    0.000    0.000 mathtext.py:889(DejaVuFonts)\n        1    0.000    0.000    0.000    0.000 mathtext.py:1071(StixSansFonts)\n        1    0.000    0.000    0.000    0.000 mathtext.py:1299(ComputerModernFontConstants)\n        1    0.000    0.000    0.000    0.000 mathtext.py:1319(STIXSansFontConstants)\n        1    0.000    0.000    0.000    0.000 mathtext.py:1326(DejaVuSerifFontConstants)\n        1    0.000    0.000    0.000    0.000 patches.py:1931(_Base)\n        1    0.000    0.000    0.000    0.000 patches.py:2186(Round4)\n        1    0.000    0.000    0.000    0.000 patches.py:2238(Sawtooth)\n        1    0.000    0.000    0.000    0.000 patches.py:2335(Roundtooth)\n        1    0.000    0.000    0.000    0.000 patches.py:2482(Arc3)\n        1    0.000    0.000    0.000    0.000 patches.py:2518(Angle3)\n        1    0.000    0.000    0.000    0.000 patches.py:2618(Arc)\n        1    0.000    0.000    0.000    0.000 patches.py:3039(Curve)\n        1    0.000    0.000    0.000    0.000 patches.py:3046(CurveA)\n        1    0.000    0.000    0.000    0.000 patches.py:3080(CurveAB)\n        1    0.000    0.000    0.000    0.000 patches.py:3097(CurveFilledA)\n        1    0.000    0.000    0.000    0.000 patches.py:3115(CurveFilledB)\n        1    0.000    0.000    0.000    0.000 patches.py:3133(CurveFilledAB)\n        1    0.000    0.000    0.000    0.000 patches.py:3228(BracketAB)\n        1    0.000    0.000    0.000    0.000 patches.py:3260(BracketA)\n        1    0.000    0.000    0.000    0.000 patches.py:3280(BracketB)\n        1    0.000    0.000    0.000    0.000 patches.py:3300(BarAB)\n        1    0.000    0.000    0.000    0.000 patches.py:3406(Fancy)\n        1    0.000    0.000    0.000    0.000 patches.py:3494(Wedge)\n        1    0.000    0.000    0.000    0.000 font_manager.py:939(_JSONEncoder)\n        1    0.000    0.000    0.000    0.000 font_manager.py:957(JSONEncoder)\n        1    0.000    0.000    0.000    0.000 ticker.py:1202(LogFormatterSciNotation)\n        1    0.000    0.000    0.000    0.000 ticker.py:1889(NullLocator)\n        1    0.000    0.000    0.000    0.000 ticker.py:2883(AutoLocator)\n        1    0.000    0.000    0.000    0.000 ticker.py:2903(AutoMinorLocator)\n        1    0.000    0.000    0.000    0.000 font_manager.py:338(FontEntry)\n        1    0.000    0.000    0.000    0.000 ticker.py:325(NullFormatter)\n        1    0.000    0.000    0.000    0.000 ticker.py:367(FuncFormatter)\n        1    0.000    0.000    0.000    0.000 ticker.py:395(FormatStrFormatter)\n        1    0.000    0.000    0.000    0.000 ticker.py:434(OldScalarFormatter)\n        1    0.000    0.000    0.000    0.000 collections.py:1296(StarPolygonCollection)\n        1    0.000    0.000    0.000    0.000 collections.py:1769(PatchCollection)\n        1    0.000    0.000    0.000    0.000 transforms.py:2542(BboxTransformToMaxOnly)\n        1    0.000    0.000    0.000    0.000 transforms.py:2725(TransformedPatchPath)\n        2    0.000    0.000    0.000    0.000 path.py:216(codes)\n        2    0.000    0.000    0.000    0.000 path.py:235(simplify_threshold)\n        5    0.000    0.000    0.000    0.000 artist.py:346(is_transform_set)\n        2    0.000    0.000    0.000    0.000 artist.py:792(get_visible)\n        2    0.000    0.000    0.000    0.000 artist.py:819(get_clip_path)\n        1    0.000    0.000    0.000    0.000 pyplot.py:121(_NotIPython)\n        1    0.000    0.000    0.000    0.000 decoder.py:20(JSONDecodeError)\n        1    0.000    0.000    0.000    0.000 _version.py:4(<module>)\n        1    0.000    0.000    0.000    0.000 six.py:86(_LazyDescr)\n        1    0.000    0.000    0.000    0.000 six.py:139(MovedAttribute)\n        2    0.000    0.000    0.000    0.000 six.py:189(__get_module)\n        1    0.000    0.000    0.000    0.000 six.py:386(Module_six_moves_urllib_request)\n        1    0.000    0.000    0.000    0.000 six.py:438(Module_six_moves_urllib_response)\n        3    0.000    0.000    0.000    0.000 six.py:864(add_metaclass)\n        1    0.000    0.000    0.000    0.000 colors.py:1169(DivergingNorm)\n        2    0.000    0.000    0.000    0.000 colors.py:114(_sanitize_extrema)\n        1    0.000    0.000    0.000    0.000 pyparsing.py:6773(LatinA)\n        1    0.000    0.000    0.000    0.000 pyparsing.py:6777(LatinB)\n        1    0.000    0.000    0.000    0.000 pyparsing.py:6789(Cyrillic)\n        1    0.000    0.000    0.000    0.000 pyparsing.py:6793(Chinese)\n        1    0.000    0.000    0.000    0.000 pyparsing.py:6805(Hiragana)\n        1    0.000    0.000    0.000    0.000 pyparsing.py:6813(Korean)\n        1    0.000    0.000    0.000    0.000 pyparsing.py:6817(CJK)\n        1    0.000    0.000    0.000    0.000 pyparsing.py:6825(Arabic)\n        1    0.000    0.000    0.000    0.000 pyparsing.py:6829(Hebrew)\n        1    0.000    0.000    0.000    0.000 pyparsing.py:1771(_FifoCache)\n        6    0.000    0.000    0.000    0.000 pyparsing.py:2243(<genexpr>)\n        1    0.000    0.000    0.000    0.000 pyparsing.py:2791(_PendingSkip)\n        1    0.000    0.000    0.000    0.000 pyparsing.py:2832(Empty)\n        1    0.000    0.000    0.000    0.000 pyparsing.py:2842(NoMatch)\n        1    0.000    0.000    0.000    0.000 pyparsing.py:2856(Literal)\n        1    0.000    0.000    0.000    0.000 pyparsing.py:2982(CaselessLiteral)\n        1    0.000    0.000    0.000    0.000 pyparsing.py:3246(_WordRegex)\n        1    0.000    0.000    0.000    0.000 pyparsing.py:3256(Char)\n        1    0.000    0.000    0.000    0.000 pyparsing.py:3706(_PositionToken)\n        1    0.000    0.000    0.000    0.000 pyparsing.py:3713(GoToColumn)\n        1    0.000    0.000    0.000    0.000 pyparsing.py:3739(LineStart)\n        1    0.000    0.000    0.000    0.000 pyparsing.py:3770(LineEnd)\n        1    0.000    0.000    0.000    0.000 pyparsing.py:3790(StringStart)\n        1    0.000    0.000    0.000    0.000 pyparsing.py:4005(_ErrorStop)\n        1    0.000    0.000    0.000    0.000 pyparsing.py:4305(Each)\n        1    0.000    0.000    0.000    0.000 pyparsing.py:4517(FollowedBy)\n        1    0.000    0.000    0.000    0.000 pyparsing.py:4552(PrecededBy)\n        1    0.000    0.000    0.000    0.000 pyparsing.py:4627(NotAny)\n        1    0.000    0.000    0.000    0.000 pyparsing.py:4795(_NullToken)\n        1    0.000    0.000    0.000    0.000 pyparsing.py:5094(TokenConverter)\n        1    0.000    0.000    0.000    0.000 pyparsing.py:5102(Combine)\n        6    0.000    0.000    0.000    0.000 pyparsing.py:5166(postParse)\n        1    0.000    0.000    0.000    0.000 pyparsing.py:5147(Group)\n        1    0.000    0.000    0.000    0.000 pyparsing.py:5169(Dict)\n        1    0.000    0.000    0.000    0.000 _animation_data.py:159(<module>)\n        1    0.000    0.000    0.000    0.000 pyparsing.py:268(<genexpr>)\n        1    0.000    0.000    0.000    0.000 pyparsing.py:456(ParseFatalException)\n        1    0.000    0.000    0.000    0.000 pyparsing.py:461(ParseSyntaxException)\n        3    0.000    0.000    0.000    0.000 rcsetup.py:391(validate_aspect)\n        2    0.000    0.000    0.000    0.000 rcsetup.py:400(validate_fontsize_None)\n        1    0.000    0.000    0.000    0.000 rcsetup.py:1039(_ignorecase)\n        1    0.000    0.000    0.000    0.000 animation.py:677(AVConvFileWriter)\n        1    0.000    0.000    0.000    0.000 __init__.py:1239(<dictcomp>)\n        1    0.000    0.000    0.000    0.000 __init__.py:2331(__init__)\n        1    0.000    0.000    0.000    0.000 deprecation.py:254(_deprecate_privatize_attribute)\n        1    0.000    0.000    0.000    0.000 __init__.py:260(IgnoredKeywordWarning)\n        1    0.000    0.000    0.000    0.000 inspect.py:2399(_void)\n        1    0.000    0.000    0.000    0.000 inspect.py:2403(_empty)\n        1    0.000    0.000    0.000    0.000 dis.py:199(Instruction)\n        1    0.000    0.000    0.000    0.000 __init__.py:1065(FileHandler)\n        1    0.000    0.000    0.000    0.000 __init__.py:1665(RootLogger)\n        1    0.000    0.000    0.000    0.000 __init__.py:250(ExecutableNotFoundError)\n        1    0.000    0.000    0.000    0.000 {built-in method numpy.core._multiarray_umath._set_madvise_hugepage}\n        1    0.000    0.000    0.000    0.000 _distributor_init.py:10(<module>)\n        2    0.000    0.000    0.000    0.000 multiarray.py:1043(copyto)\n        1    0.000    0.000    0.000    0.000 tokenize.py:212(TokenError)\n        1    0.000    0.000    0.000    0.000 tokenize.py:214(StopTokenizing)\n        1    0.000    0.000    0.000    0.000 tokenize.py:217(Untokenizer)\n        1    0.000    0.000    0.000    0.000 _globals.py:30(ModuleDeprecationWarning)\n        1    0.000    0.000    0.000    0.000 _globals.py:44(VisibleDeprecationWarning)\n        9    0.000    0.000    0.000    0.000 _globals.py:75(__repr__)\n        1    0.000    0.000    0.000    0.000 error.py:154(NoAsyncCallError)\n        1    0.000    0.000    0.000    0.000 error.py:163(ClosedEnvironmentError)\n        1    0.000    0.000    0.000    0.000 core.py:130(unwrapped)\n        1    0.000    0.000    0.000    0.000 core.py:156(GoalEnv)\n        1    0.000    0.000    0.000    0.000 error.py:20(UnregisteredBenchmark)\n        1    0.000    0.000    0.000    0.000 error.py:26(DeprecatedEnv)\n        1    0.000    0.000    0.000    0.000 error.py:38(DependencyNotInstalled)\n        1    0.000    0.000    0.000    0.000 error.py:47(ResetNeeded)\n        1    0.000    0.000    0.000    0.000 error.py:59(InvalidAction)\n        1    0.000    0.000    0.000    0.000 error.py:67(APIError)\n        1    0.000    0.000    0.000    0.000 error.py:100(APIConnectionError)\n        1    0.000    0.000    0.000    0.000 error.py:114(AuthenticationError)\n        1    0.000    0.000    0.000    0.000 error.py:117(RateLimitError)\n        1    0.000    0.000    0.000    0.000 error.py:122(VideoRecorderError)\n        1    0.000    0.000    0.000    0.000 error.py:125(InvalidFrame)\n        1    0.000    0.000    0.000    0.000 error.py:130(DoubleWrapperError)\n        1    0.000    0.000    0.000    0.000 error.py:134(WrapAfterConfigureError)\n        1    0.000    0.000    0.000    0.000 error.py:143(AlreadyPendingCallError)\n        1    0.000    0.000    0.000    0.000 core.py:255(ObservationWrapper)\n        1    0.000    0.000    0.000    0.000 core.py:268(RewardWrapper)\n        1    0.000    0.000    0.000    0.000 threading.py:450(BoundedSemaphore)\n        4    0.000    0.000    0.000    0.000 threading.py:507(is_set)\n        1    0.000    0.000    0.000    0.000 threading.py:721(BrokenBarrierError)\n        1    0.000    0.000    0.000    0.000 threading.py:1183(_MainThread)\n        1    0.000    0.000    0.000    0.000 error.py:3(Error)\n        1   0.000    0.000    0.000    0.000 error.py:8(Unregistered)\n        9    0.000    0.000    0.000    0.000 enum.py:906(<lambda>)\n        1    0.000    0.000    0.000    0.000 sre_parse.py:98(checkgroup)\n        1    0.000    0.000    0.000    0.000 sre_parse.py:101(checklookbehindgroup)\n        6    0.000    0.000    0.000    0.000 sre_parse.py:162(__delitem__)\n        1    0.000    0.000    0.000    0.000 ORF_CartPole_v2.py:90(<dictcomp>)\n        1    0.000    0.000    0.000    0.000 {built-in method _hashlib.openssl_sha256}\n\n\n"
    },
    {
     "output_type": "execute_result",
     "data": {
      "text/plain": "<pstats.Stats at 0x7fb08b29c490>"
     },
     "metadata": {},
     "execution_count": 8
    }
   ],
   "source": [
    "import pstats\n",
    "stats = pstats.Stats(\"profile_200913.pfl\")\n",
    "stats.strip_dirs()\n",
    "stats.sort_stats('cumulative')\n",
    "stats.print_stats()"
   ]
  },
  {
   "cell_type": "code",
   "execution_count": null,
   "metadata": {},
   "outputs": [],
   "source": []
  }
 ]
}